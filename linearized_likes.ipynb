{
 "cells": [
  {
   "cell_type": "code",
   "execution_count": 1,
   "id": "b6dd2bb8-7d0f-4d5f-a40c-613e137cc632",
   "metadata": {},
   "outputs": [],
   "source": [
    "import pandas as pd\n",
    "import seaborn as sns\n",
    "import matplotlib.pyplot as plt\n",
    "import numpy as np\n",
    "import hashlib\n",
    "from scipy import stats\n",
    "import pandahouse\n",
    "%matplotlib inline"
   ]
  },
  {
   "cell_type": "code",
   "execution_count": 2,
   "id": "56e9912c-e1e0-482d-ac23-93174dc9252c",
   "metadata": {},
   "outputs": [],
   "source": [
    "connection = {'host': 'https://clickhouse.lab.karpov.courses',\n",
    "                      'database':'simulator_20220820',\n",
    "                      'user':'student', \n",
    "                      'password':'dpo_python_2020'\n",
    "                     }"
   ]
  },
  {
   "cell_type": "code",
   "execution_count": 3,
   "id": "c8ddf340-4d52-43de-add8-a1de30f461ed",
   "metadata": {},
   "outputs": [],
   "source": [
    "q = \"\"\"\n",
    "SELECT exp_group, \n",
    "    user_id,\n",
    "    sum(action = 'like') as likes,\n",
    "    sum(action = 'view') as views,\n",
    "    likes/views as ctr\n",
    "FROM {db}.feed_actions \n",
    "WHERE toDate(time) between '2022-07-13' and '2022-07-19'\n",
    "GROUP BY exp_group, user_id\n",
    "\"\"\"\n",
    "\n",
    "df = pandahouse.read_clickhouse(q, connection=connection)"
   ]
  },
  {
   "cell_type": "code",
   "execution_count": 4,
   "id": "d40d45ff-05a3-4a87-99fe-1633b8663e3b",
   "metadata": {},
   "outputs": [
    {
     "data": {
      "text/html": [
       "<div>\n",
       "<style scoped>\n",
       "    .dataframe tbody tr th:only-of-type {\n",
       "        vertical-align: middle;\n",
       "    }\n",
       "\n",
       "    .dataframe tbody tr th {\n",
       "        vertical-align: top;\n",
       "    }\n",
       "\n",
       "    .dataframe thead th {\n",
       "        text-align: right;\n",
       "    }\n",
       "</style>\n",
       "<table border=\"1\" class=\"dataframe\">\n",
       "  <thead>\n",
       "    <tr style=\"text-align: right;\">\n",
       "      <th></th>\n",
       "      <th>user_id</th>\n",
       "      <th>likes</th>\n",
       "      <th>views</th>\n",
       "      <th>ctr</th>\n",
       "    </tr>\n",
       "    <tr>\n",
       "      <th>exp_group</th>\n",
       "      <th></th>\n",
       "      <th></th>\n",
       "      <th></th>\n",
       "      <th></th>\n",
       "    </tr>\n",
       "  </thead>\n",
       "  <tbody>\n",
       "    <tr>\n",
       "      <th>0</th>\n",
       "      <td>9999</td>\n",
       "      <td>9999</td>\n",
       "      <td>9999</td>\n",
       "      <td>9999</td>\n",
       "    </tr>\n",
       "    <tr>\n",
       "      <th>1</th>\n",
       "      <td>10079</td>\n",
       "      <td>10079</td>\n",
       "      <td>10079</td>\n",
       "      <td>10079</td>\n",
       "    </tr>\n",
       "    <tr>\n",
       "      <th>2</th>\n",
       "      <td>9952</td>\n",
       "      <td>9952</td>\n",
       "      <td>9952</td>\n",
       "      <td>9952</td>\n",
       "    </tr>\n",
       "    <tr>\n",
       "      <th>3</th>\n",
       "      <td>10049</td>\n",
       "      <td>10049</td>\n",
       "      <td>10049</td>\n",
       "      <td>10049</td>\n",
       "    </tr>\n",
       "    <tr>\n",
       "      <th>4</th>\n",
       "      <td>10070</td>\n",
       "      <td>10070</td>\n",
       "      <td>10070</td>\n",
       "      <td>10070</td>\n",
       "    </tr>\n",
       "  </tbody>\n",
       "</table>\n",
       "</div>"
      ],
      "text/plain": [
       "           user_id  likes  views    ctr\n",
       "exp_group                              \n",
       "0             9999   9999   9999   9999\n",
       "1            10079  10079  10079  10079\n",
       "2             9952   9952   9952   9952\n",
       "3            10049  10049  10049  10049\n",
       "4            10070  10070  10070  10070"
      ]
     },
     "execution_count": 4,
     "metadata": {},
     "output_type": "execute_result"
    }
   ],
   "source": [
    "# Посмотрим сколько у нас пользователей в группах\n",
    "df.groupby('exp_group').count()"
   ]
  },
  {
   "cell_type": "code",
   "execution_count": 5,
   "id": "8d27eb28-ead4-45c0-8eff-bc6374ead9e4",
   "metadata": {},
   "outputs": [],
   "source": [
    "#считаем ctr контрольных групп\n",
    "ctr_control_0 = df[df.exp_group == 0].likes.sum()/df[df.exp_group == 0].views.sum()\n",
    "ctr_control_1 = df[df.exp_group == 1].likes.sum()/df[df.exp_group == 1].views.sum()"
   ]
  },
  {
   "cell_type": "markdown",
   "id": "8b8203c6-0e71-49d4-9b6d-b83754dc710b",
   "metadata": {},
   "source": [
    "# Группы 0 и 3"
   ]
  },
  {
   "cell_type": "code",
   "execution_count": 16,
   "id": "6bb054c8-1c5f-484c-a8aa-59083e51a5bf",
   "metadata": {},
   "outputs": [
    {
     "data": {
      "text/plain": [
       "7        -1.905973\n",
       "11        5.878791\n",
       "16       -0.707070\n",
       "17       -3.080028\n",
       "27        1.254083\n",
       "           ...    \n",
       "50124    -1.372959\n",
       "50127    -2.196571\n",
       "50130     0.459986\n",
       "50143    10.844610\n",
       "50144    -0.121209\n",
       "Length: 9999, dtype: float64"
      ]
     },
     "execution_count": 16,
     "metadata": {},
     "output_type": "execute_result"
    }
   ],
   "source": [
    "#считаем linearized_likes\n",
    "linearized_likes_0 = df[df.exp_group == 0].likes - ctr_control_0 * df[df.exp_group == 0].views\n",
    "linearized_likes_0"
   ]
  },
  {
   "cell_type": "code",
   "execution_count": 17,
   "id": "459ad865-4fb4-440c-b37b-a993c23e6f73",
   "metadata": {},
   "outputs": [
    {
     "data": {
      "text/plain": [
       "0         2.752916\n",
       "2         3.004666\n",
       "9        -0.912973\n",
       "13        2.668222\n",
       "14       -3.537681\n",
       "           ...    \n",
       "50114    -1.874125\n",
       "50118     7.757582\n",
       "50122    12.089360\n",
       "50145   -11.230752\n",
       "50147     5.464652\n",
       "Length: 10049, dtype: float64"
      ]
     },
     "execution_count": 17,
     "metadata": {},
     "output_type": "execute_result"
    }
   ],
   "source": [
    "#считаем linearized_likes\n",
    "linearized_likes_3 = df[df.exp_group == 3].likes - ctr_control_0 * df[df.exp_group == 3].views\n",
    "linearized_likes_3"
   ]
  },
  {
   "cell_type": "code",
   "execution_count": 10,
   "id": "1d4431e1-122b-453f-ba7c-4c797446e4b7",
   "metadata": {},
   "outputs": [
    {
     "data": {
      "text/plain": [
       "Ttest_indResult(statistic=-13.896870721904069, pvalue=1.055849414662529e-43)"
      ]
     },
     "execution_count": 10,
     "metadata": {},
     "output_type": "execute_result"
    }
   ],
   "source": [
    "#t-test on CTR\n",
    "\n",
    "stats.ttest_ind(df[df.exp_group == 0].ctr,\n",
    "                df[df.exp_group == 3].ctr,\n",
    "                equal_var=False)"
   ]
  },
  {
   "cell_type": "code",
   "execution_count": 11,
   "id": "8db24af4-132f-450b-81a8-92c95c2a551f",
   "metadata": {},
   "outputs": [
    {
     "data": {
      "text/plain": [
       "Ttest_indResult(statistic=-15.214995460903827, pvalue=5.4914249479690016e-52)"
      ]
     },
     "execution_count": 11,
     "metadata": {},
     "output_type": "execute_result"
    }
   ],
   "source": [
    "#t-test on linearized_likes\n",
    "\n",
    "stats.ttest_ind(linearized_likes_0,\n",
    "                linearized_likes_3,\n",
    "                equal_var=False)"
   ]
  },
  {
   "cell_type": "markdown",
   "id": "f8706967-a3ae-4ca3-ab03-1b255218059a",
   "metadata": {},
   "source": [
    "p-value стал чуть меньше, но особого отличия не видно, и так и так отклоняем гипотезу о равенстве средних в выборках"
   ]
  },
  {
   "cell_type": "markdown",
   "id": "21efd344-cfea-43e1-bd8f-7f3f3b06f0aa",
   "metadata": {},
   "source": [
    "# Группы 1 и 2"
   ]
  },
  {
   "cell_type": "code",
   "execution_count": 18,
   "id": "bb37d371-7ef5-429b-b000-570f1e09ed5c",
   "metadata": {},
   "outputs": [
    {
     "data": {
      "text/plain": [
       "1         0.343142\n",
       "8        -4.032777\n",
       "10       -6.514386\n",
       "12      -10.058198\n",
       "15       -1.945153\n",
       "           ...    \n",
       "50132     0.390633\n",
       "50135    -5.357200\n",
       "50138    -2.576590\n",
       "50142    -0.393984\n",
       "50146   -16.575934\n",
       "Length: 10079, dtype: float64"
      ]
     },
     "execution_count": 18,
     "metadata": {},
     "output_type": "execute_result"
    }
   ],
   "source": [
    "#считаем linearized_likes\n",
    "linearized_likes_1 = df[df.exp_group == 1].likes - ctr_control_1 * df[df.exp_group == 1].views\n",
    "linearized_likes_1"
   ]
  },
  {
   "cell_type": "code",
   "execution_count": 19,
   "id": "495b04b7-8ab6-4b1e-a96c-1dfe6eb13eb7",
   "metadata": {},
   "outputs": [
    {
     "data": {
      "text/plain": [
       "3       -13.875592\n",
       "5        -0.627431\n",
       "6        21.277588\n",
       "18       -5.521742\n",
       "21        1.127759\n",
       "           ...    \n",
       "50131    -6.977930\n",
       "50136    -0.248161\n",
       "50137    -2.696992\n",
       "50140   -14.970573\n",
       "50148    -8.058198\n",
       "Length: 9952, dtype: float64"
      ]
     },
     "execution_count": 19,
     "metadata": {},
     "output_type": "execute_result"
    }
   ],
   "source": [
    "#считаем linearized_likes\n",
    "linearized_likes_2 = df[df.exp_group == 2].likes - ctr_control_1 * df[df.exp_group == 2].views\n",
    "linearized_likes_2"
   ]
  },
  {
   "cell_type": "code",
   "execution_count": 20,
   "id": "53b3a6f9-770a-4b42-9b90-8552a713b715",
   "metadata": {},
   "outputs": [
    {
     "data": {
      "text/plain": [
       "Ttest_indResult(statistic=0.7094392041270485, pvalue=0.4780623130874935)"
      ]
     },
     "execution_count": 20,
     "metadata": {},
     "output_type": "execute_result"
    }
   ],
   "source": [
    "#t-test on CTR\n",
    "\n",
    "stats.ttest_ind(df[df.exp_group == 1].ctr,\n",
    "                df[df.exp_group == 2].ctr,\n",
    "                equal_var=False)"
   ]
  },
  {
   "cell_type": "code",
   "execution_count": 21,
   "id": "22991d04-4485-4e57-b9d4-8aa91bcd736e",
   "metadata": {},
   "outputs": [
    {
     "data": {
      "text/plain": [
       "Ttest_indResult(statistic=6.122579994775974, pvalue=9.439432187037644e-10)"
      ]
     },
     "execution_count": 21,
     "metadata": {},
     "output_type": "execute_result"
    }
   ],
   "source": [
    "#t-test on linearized_likes\n",
    "\n",
    "stats.ttest_ind(linearized_likes_1,\n",
    "                linearized_likes_2,\n",
    "                equal_var=False)"
   ]
  },
  {
   "cell_type": "code",
   "execution_count": 24,
   "id": "e76d621a-bef0-4315-b5b3-6f6d9ffd59b4",
   "metadata": {},
   "outputs": [
    {
     "data": {
      "text/plain": [
       "<AxesSubplot:ylabel='Count'>"
      ]
     },
     "execution_count": 24,
     "metadata": {},
     "output_type": "execute_result"
    },
    {
     "data": {
      "image/png": "[encoded data removed]",
      "text/plain": [
       "<Figure size 842.4x595.44 with 1 Axes>"
      ]
     },
     "metadata": {},
     "output_type": "display_data"
    }
   ],
   "source": [
    "# Построим гистограммы распределения линеаризованных лайков по группам\n",
    "sns.set(rc={'figure.figsize':(11.7,8.27)})\n",
    "\n",
    "sns.histplot(linearized_likes_1, color='r')\n",
    "sns.histplot(linearized_likes_2)"
   ]
  },
  {
   "cell_type": "markdown",
   "id": "b4387b9d-2434-41ca-beb0-ffcde2d816ed",
   "metadata": {},
   "source": [
    "p-value в случае с линеаризованными лайками стал намного меньше и в отличие от случая с t-тестом по поюзерному CTR, по t-тесту на линеаризованных лайках отклоняем гипотезу о равенстве средних в выборках, что, как мы выяснили в прошлом задании, является более правдоподобным результатом."
   ]
  },
  {
   "cell_type": "code",
   "execution_count": null,
   "id": "ece36126-8962-434b-aa2f-448fe777e38d",
   "metadata": {},
   "outputs": [],
   "source": []
  }
 ],
 "metadata": {
  "kernelspec": {
   "display_name": "Python 3 (ipykernel)",
   "language": "python",
   "name": "python3"
  },
  "language_info": {
   "codemirror_mode": {
    "name": "ipython",
    "version": 3
   },
   "file_extension": ".py",
   "mimetype": "text/x-python",
   "name": "python",
   "nbconvert_exporter": "python",
   "pygments_lexer": "ipython3",
   "version": "3.9.12"
  }
 },
 "nbformat": 4,
 "nbformat_minor": 5
}
