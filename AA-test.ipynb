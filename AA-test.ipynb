{
 "cells": [
  {
   "cell_type": "markdown",
   "id": "bf9e74db-5be9-4b12-bc1b-a58459f5bb49",
   "metadata": {},
   "source": [
    "# Подготовка"
   ]
  },
  {
   "cell_type": "code",
   "execution_count": 9,
   "id": "1cbbe610-e9e6-4890-a818-ced7201e5f89",
   "metadata": {},
   "outputs": [],
   "source": [
    "import pandas as pd\n",
    "import seaborn as sns\n",
    "import matplotlib.pyplot as plt\n",
    "import numpy as np\n",
    "import hashlib\n",
    "from scipy import stats\n",
    "import pandahouse\n",
    "%matplotlib inline"
   ]
  },
  {
   "cell_type": "code",
   "execution_count": 10,
   "id": "ac0b6367-b0e5-4fa7-b0ec-4fac179785aa",
   "metadata": {},
   "outputs": [],
   "source": [
    "connection = {'host': 'https://clickhouse.lab.karpov.courses',\n",
    "                      'database':'simulator_20220820',\n",
    "                      'user':'student', \n",
    "                      'password':'dpo_python_2020'\n",
    "                     }\n",
    "\n",
    "q = \"\"\"\n",
    "SELECT exp_group, \n",
    "    user_id,\n",
    "    sum(action = 'like') as likes,\n",
    "    sum(action = 'view') as views,\n",
    "    likes/views as ctr\n",
    "FROM {db}.feed_actions \n",
    "WHERE toDate(time) between '2022-07-06' and '2022-07-12'\n",
    "    and exp_group in (2,3)\n",
    "GROUP BY exp_group, user_id\n",
    "\"\"\"\n",
    "\n",
    "df = pandahouse.read_clickhouse(q, connection=connection)"
   ]
  },
  {
   "cell_type": "markdown",
   "id": "68ee0604-f4c4-4b61-947c-3e0651a98eb7",
   "metadata": {},
   "source": [
    "# Смотрим на данные"
   ]
  },
  {
   "cell_type": "code",
   "execution_count": 11,
   "id": "996c054b-d7a6-4360-b28d-2f269167d51e",
   "metadata": {},
   "outputs": [
    {
     "data": {
      "text/html": [
       "<div>\n",
       "<style scoped>\n",
       "    .dataframe tbody tr th:only-of-type {\n",
       "        vertical-align: middle;\n",
       "    }\n",
       "\n",
       "    .dataframe tbody tr th {\n",
       "        vertical-align: top;\n",
       "    }\n",
       "\n",
       "    .dataframe thead th {\n",
       "        text-align: right;\n",
       "    }\n",
       "</style>\n",
       "<table border=\"1\" class=\"dataframe\">\n",
       "  <thead>\n",
       "    <tr style=\"text-align: right;\">\n",
       "      <th></th>\n",
       "      <th>user_id</th>\n",
       "      <th>likes</th>\n",
       "      <th>views</th>\n",
       "      <th>ctr</th>\n",
       "    </tr>\n",
       "    <tr>\n",
       "      <th>exp_group</th>\n",
       "      <th></th>\n",
       "      <th></th>\n",
       "      <th></th>\n",
       "      <th></th>\n",
       "    </tr>\n",
       "  </thead>\n",
       "  <tbody>\n",
       "    <tr>\n",
       "      <th>2</th>\n",
       "      <td>8480</td>\n",
       "      <td>8480</td>\n",
       "      <td>8480</td>\n",
       "      <td>8480</td>\n",
       "    </tr>\n",
       "    <tr>\n",
       "      <th>3</th>\n",
       "      <td>8569</td>\n",
       "      <td>8569</td>\n",
       "      <td>8569</td>\n",
       "      <td>8569</td>\n",
       "    </tr>\n",
       "  </tbody>\n",
       "</table>\n",
       "</div>"
      ],
      "text/plain": [
       "           user_id  likes  views   ctr\n",
       "exp_group                             \n",
       "2             8480   8480   8480  8480\n",
       "3             8569   8569   8569  8569"
      ]
     },
     "execution_count": 11,
     "metadata": {},
     "output_type": "execute_result"
    }
   ],
   "source": [
    "# Посмотрим сколько у нас пользователей в группах\n",
    "df.groupby('exp_group').count()"
   ]
  },
  {
   "cell_type": "code",
   "execution_count": 12,
   "id": "03bfe1b9-d9da-4f02-a3c6-9269d85eb5dc",
   "metadata": {},
   "outputs": [
    {
     "data": {
      "image/png": "[encoded data removed]",
      "text/plain": [
       "<Figure size 842.4x595.44 with 1 Axes>"
      ]
     },
     "metadata": {},
     "output_type": "display_data"
    }
   ],
   "source": [
    "# Сделаем графики в seaborn покрупнее\n",
    "sns.set(rc={'figure.figsize':(11.7,8.27)})\n",
    "\n",
    "# Построим гистограммы распределения групп\n",
    "groups = sns.histplot(data = df, \n",
    "              x='ctr', \n",
    "              hue='exp_group', \n",
    "              palette = ['r', 'b'],\n",
    "              alpha=0.5,\n",
    "              kde=False)"
   ]
  },
  {
   "cell_type": "markdown",
   "id": "1b65ba97-876d-411c-9442-b55ad8b7091f",
   "metadata": {},
   "source": [
    "# A/A-тестирование"
   ]
  },
  {
   "cell_type": "code",
   "execution_count": 15,
   "id": "6df5c60a-8097-4ecd-b736-8b28dcfe565f",
   "metadata": {},
   "outputs": [],
   "source": [
    "# функция симуляции проведения A/A-тестов, возвращает Series из p-value \"проведенных\" тестов\n",
    "def AA_test_simulation(ctr1, ctr2, n_simulation=10000):\n",
    "    p_values = []\n",
    "\n",
    "    for _ in range(n_simulation):\n",
    "        p_values.append(stats.ttest_ind(ctr1.sample(500),\n",
    "                    ctr2.sample(500),\n",
    "                    equal_var=False)[1])\n",
    "        \n",
    "    return pd.Series(p_values)"
   ]
  },
  {
   "cell_type": "code",
   "execution_count": 16,
   "id": "af186319-a63a-4cdc-9455-2d94c76203be",
   "metadata": {},
   "outputs": [
    {
     "data": {
      "text/plain": [
       "0    0.663770\n",
       "1    0.647854\n",
       "2    0.208908\n",
       "3    0.533428\n",
       "4    0.848089\n",
       "5    0.606974\n",
       "6    0.325001\n",
       "7    0.638675\n",
       "8    0.084037\n",
       "9    0.316408\n",
       "dtype: float64"
      ]
     },
     "execution_count": 16,
     "metadata": {},
     "output_type": "execute_result"
    }
   ],
   "source": [
    "# получаем p-values\n",
    "p_values = AA_test_simulation(df[df.exp_group == 2].ctr, df[df.exp_group == 3].ctr)\n",
    "p_values[:10]"
   ]
  },
  {
   "cell_type": "code",
   "execution_count": 17,
   "id": "fb0995bb-2b35-4dc5-80e7-d08286458ebd",
   "metadata": {},
   "outputs": [
    {
     "data": {
      "text/plain": [
       "<AxesSubplot:ylabel='Count'>"
      ]
     },
     "execution_count": 17,
     "metadata": {},
     "output_type": "execute_result"
    },
    {
     "data": {
      "image/png": "[encoded data removed]",
      "text/plain": [
       "<Figure size 842.4x595.44 with 1 Axes>"
      ]
     },
     "metadata": {},
     "output_type": "display_data"
    }
   ],
   "source": [
    "# строим гистограмму распределения получившихся p-values\n",
    "sns.histplot(p_values)"
   ]
  },
  {
   "cell_type": "code",
   "execution_count": 19,
   "id": "74989c80-7ee5-4722-af4d-9b80c632cbf6",
   "metadata": {},
   "outputs": [
    {
     "data": {
      "text/plain": [
       "4.68"
      ]
     },
     "execution_count": 19,
     "metadata": {},
     "output_type": "execute_result"
    }
   ],
   "source": [
    "# считаем какой процент p-values оказался меньше либо равен 0.05\n",
    "len(p_values.where(p_values <= 0.05).dropna()) / len(p_values) * 100"
   ]
  },
  {
   "cell_type": "markdown",
   "id": "ef7dddad-e6c5-4aff-a009-c31f1e093b29",
   "metadata": {},
   "source": [
    "# Вывод\n",
    "\n",
    "Система сплитования работает корректно, так как на симуляции 10000 A/A-тестов, p-value меньше 0.05 встречается в чуть меньше чем 5% случаев. Это означает, что с вероятностью примерно 95% наша система сплитования работает корректно."
   ]
  },
  {
   "cell_type": "code",
   "execution_count": null,
   "id": "84371502-c2b5-4e21-935c-d5524fa88c79",
   "metadata": {},
   "outputs": [],
   "source": []
  }
 ],
 "metadata": {
  "kernelspec": {
   "display_name": "Python 3 (ipykernel)",
   "language": "python",
   "name": "python3"
  },
  "language_info": {
   "codemirror_mode": {
    "name": "ipython",
    "version": 3
   },
   "file_extension": ".py",
   "mimetype": "text/x-python",
   "name": "python",
   "nbconvert_exporter": "python",
   "pygments_lexer": "ipython3",
   "version": "3.8.10"
  }
 },
 "nbformat": 4,
 "nbformat_minor": 5
}
