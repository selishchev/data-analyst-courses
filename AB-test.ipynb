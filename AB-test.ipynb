{
 "cells": [
  {
   "cell_type": "markdown",
   "id": "f1cdff3c-6d7c-491a-a033-e1fbc922fb90",
   "metadata": {},
   "source": [
    "# Подготовка"
   ]
  },
  {
   "cell_type": "code",
   "execution_count": 105,
   "id": "329a99f8-d113-4921-9c25-514eca79c359",
   "metadata": {},
   "outputs": [],
   "source": [
    "import pandas as pd\n",
    "import seaborn as sns\n",
    "import matplotlib.pyplot as plt\n",
    "import numpy as np\n",
    "import hashlib\n",
    "from scipy import stats\n",
    "import pandahouse\n",
    "%matplotlib inline"
   ]
  },
  {
   "cell_type": "code",
   "execution_count": 106,
   "id": "a8a0768a-5c7a-4126-b5d9-d846e97f8ff2",
   "metadata": {},
   "outputs": [],
   "source": [
    "connection = {'host': 'https://clickhouse.lab.karpov.courses',\n",
    "                      'database':'simulator_20220820',\n",
    "                      'user':'student', \n",
    "                      'password':'dpo_python_2020'\n",
    "                     }"
   ]
  },
  {
   "cell_type": "code",
   "execution_count": 107,
   "id": "b47147d1-4203-48ba-9eab-1d3fcd152cf5",
   "metadata": {},
   "outputs": [],
   "source": [
    "q = \"\"\"\n",
    "SELECT exp_group, \n",
    "    user_id,\n",
    "    sum(action = 'like') as likes,\n",
    "    sum(action = 'view') as views,\n",
    "    likes/views as ctr\n",
    "FROM {db}.feed_actions \n",
    "WHERE toDate(time) between '2022-07-13' and '2022-07-19'\n",
    "    and exp_group in (1,2)\n",
    "GROUP BY exp_group, user_id\n",
    "\"\"\"\n",
    "\n",
    "df = pandahouse.read_clickhouse(q, connection=connection)"
   ]
  },
  {
   "cell_type": "markdown",
   "id": "f57a5058-eabd-4ab2-b457-855bbad7555b",
   "metadata": {},
   "source": [
    "# Смотрим на данные"
   ]
  },
  {
   "cell_type": "code",
   "execution_count": 108,
   "id": "a7838196-fbc2-41f7-aa05-33c0710a1fc2",
   "metadata": {},
   "outputs": [
    {
     "data": {
      "text/html": [
       "<div>\n",
       "<style scoped>\n",
       "    .dataframe tbody tr th:only-of-type {\n",
       "        vertical-align: middle;\n",
       "    }\n",
       "\n",
       "    .dataframe tbody tr th {\n",
       "        vertical-align: top;\n",
       "    }\n",
       "\n",
       "    .dataframe thead th {\n",
       "        text-align: right;\n",
       "    }\n",
       "</style>\n",
       "<table border=\"1\" class=\"dataframe\">\n",
       "  <thead>\n",
       "    <tr style=\"text-align: right;\">\n",
       "      <th></th>\n",
       "      <th>user_id</th>\n",
       "      <th>likes</th>\n",
       "      <th>views</th>\n",
       "      <th>ctr</th>\n",
       "    </tr>\n",
       "    <tr>\n",
       "      <th>exp_group</th>\n",
       "      <th></th>\n",
       "      <th></th>\n",
       "      <th></th>\n",
       "      <th></th>\n",
       "    </tr>\n",
       "  </thead>\n",
       "  <tbody>\n",
       "    <tr>\n",
       "      <th>1</th>\n",
       "      <td>10079</td>\n",
       "      <td>10079</td>\n",
       "      <td>10079</td>\n",
       "      <td>10079</td>\n",
       "    </tr>\n",
       "    <tr>\n",
       "      <th>2</th>\n",
       "      <td>9952</td>\n",
       "      <td>9952</td>\n",
       "      <td>9952</td>\n",
       "      <td>9952</td>\n",
       "    </tr>\n",
       "  </tbody>\n",
       "</table>\n",
       "</div>"
      ],
      "text/plain": [
       "           user_id  likes  views    ctr\n",
       "exp_group                              \n",
       "1            10079  10079  10079  10079\n",
       "2             9952   9952   9952   9952"
      ]
     },
     "execution_count": 108,
     "metadata": {},
     "output_type": "execute_result"
    }
   ],
   "source": [
    "# Посмотрим сколько у нас пользователей в группах\n",
    "df.groupby('exp_group').count()"
   ]
  },
  {
   "cell_type": "code",
   "execution_count": 109,
   "id": "929f4471-1cf0-449d-b3be-3c459abe6040",
   "metadata": {},
   "outputs": [],
   "source": [
    "# Сделаем графики в seaborn покрупнее\n",
    "sns.set(rc={'figure.figsize':(11.7,8.27)})"
   ]
  },
  {
   "cell_type": "code",
   "execution_count": 110,
   "id": "975ebe3a-9021-418b-81c1-ee523fccdd48",
   "metadata": {},
   "outputs": [
    {
     "data": {
      "image/png": "[encoded data removed]",
      "text/plain": [
       "<Figure size 842.4x595.44 with 1 Axes>"
      ]
     },
     "metadata": {},
     "output_type": "display_data"
    }
   ],
   "source": [
    "# Построим гистограммы распределения групп\n",
    "groups = sns.histplot(data = df, \n",
    "              x='ctr', \n",
    "              hue='exp_group', \n",
    "              palette = ['r', 'b'],\n",
    "              alpha=0.5,\n",
    "              kde=False)"
   ]
  },
  {
   "cell_type": "markdown",
   "id": "2aad8b0f-fe80-47f0-bef4-696edf180825",
   "metadata": {},
   "source": [
    "Можно видеть, что распределение первой (контрольной) группы похоже на нормальное, а распределение второй (экспериментальной) группы похоже на бимодальное. Визуально их средние примерно равны."
   ]
  },
  {
   "cell_type": "markdown",
   "id": "04ddd0b1-b8b5-4dc5-aa63-3c8c41bd404e",
   "metadata": {},
   "source": [
    "# t-тест и тест Манна-Уитни"
   ]
  },
  {
   "cell_type": "code",
   "execution_count": 116,
   "id": "3296770c-7d88-477f-a98e-898b29ef61b3",
   "metadata": {},
   "outputs": [
    {
     "data": {
      "text/plain": [
       "Ttest_indResult(statistic=0.7094392041270485, pvalue=0.4780623130874935)"
      ]
     },
     "execution_count": 116,
     "metadata": {},
     "output_type": "execute_result"
    }
   ],
   "source": [
    "#t-test\n",
    "\n",
    "stats.ttest_ind(df[df.exp_group == 1].ctr,\n",
    "                df[df.exp_group == 2].ctr,\n",
    "                equal_var=False)"
   ]
  },
  {
   "cell_type": "code",
   "execution_count": 117,
   "id": "701b4e42-dc24-427d-a293-882ff7dc98bd",
   "metadata": {},
   "outputs": [
    {
     "data": {
      "text/plain": [
       "MannwhitneyuResult(statistic=56601260.5, pvalue=6.0376484617779035e-56)"
      ]
     },
     "execution_count": 117,
     "metadata": {},
     "output_type": "execute_result"
    }
   ],
   "source": [
    "#Mann-Whitney test\n",
    "stats.mannwhitneyu(df[df.exp_group == 1].ctr, \n",
    "                   df[df.exp_group == 2].ctr,\n",
    "                   alternative = 'two-sided')"
   ]
  },
  {
   "cell_type": "markdown",
   "id": "4281733b-6abd-41b5-8e76-ffd74f6b879d",
   "metadata": {},
   "source": [
    "t-тест показал, что разница средних двух выборок не значима, а вот тест Манна-Уитни показал, что различие между выборками статистически значимо. Это произошло как раз из-за того, что мы наблюдаем на графике: средние примерно равны, но сами распределения групп заметно отличаются между собой."
   ]
  },
  {
   "cell_type": "markdown",
   "id": "0c24ff79-8ded-4ea4-9d29-b68b1aa7d606",
   "metadata": {},
   "source": [
    "# Сглаженный CTR"
   ]
  },
  {
   "cell_type": "code",
   "execution_count": 118,
   "id": "2dbd2b22-d93e-4b0e-96c3-7d8651afefd9",
   "metadata": {},
   "outputs": [],
   "source": [
    "# функция для сглаживания ctr\n",
    "def get_smoothed_ctr(user_likes, user_views, global_ctr, alpha):\n",
    "    smoothed_ctr = (user_likes + alpha * global_ctr) / (user_views + alpha)\n",
    "    return smoothed_ctr"
   ]
  },
  {
   "cell_type": "code",
   "execution_count": 119,
   "id": "3a1b1109-369a-483c-bbda-76418b3d5dd5",
   "metadata": {},
   "outputs": [
    {
     "name": "stderr",
     "output_type": "stream",
     "text": [
      "/nfs/env/lib/python3.8/site-packages/seaborn/distributions.py:2557: FutureWarning: `distplot` is a deprecated function and will be removed in a future version. Please adapt your code to use either `displot` (a figure-level function with similar flexibility) or `histplot` (an axes-level function for histograms).\n",
      "  warnings.warn(msg, FutureWarning)\n"
     ]
    },
    {
     "data": {
      "text/plain": [
       "<AxesSubplot:xlabel='ctr'>"
      ]
     },
     "execution_count": 119,
     "metadata": {},
     "output_type": "execute_result"
    },
    {
     "data": {
      "image/png": "[encoded data removed]",
      "text/plain": [
       "<Figure size 842.4x595.44 with 1 Axes>"
      ]
     },
     "metadata": {},
     "output_type": "display_data"
    }
   ],
   "source": [
    "#считаем глобальный ctr\n",
    "global_ctr_1 = df[df.exp_group == 1].likes.sum()/df[df.exp_group == 1].views.sum()\n",
    "global_ctr_2 = df[df.exp_group == 2].likes.sum()/df[df.exp_group == 2].views.sum()\n",
    "\n",
    "#считаем сглаженный ctr\n",
    "group1 = df[df.exp_group == 1].copy()\n",
    "group1['smoothed_ctr'] = df.apply(\n",
    "    lambda x: get_smoothed_ctr(x['likes'], x['views'], global_ctr_1, 5), axis=1)\n",
    "\n",
    "#строим распределение обычного ctr\n",
    "sns.distplot(group1.ctr, \n",
    "             kde = False)"
   ]
  },
  {
   "cell_type": "code",
   "execution_count": 120,
   "id": "d03ef96e-490d-4fce-b72a-8317dc3d7edf",
   "metadata": {},
   "outputs": [
    {
     "data": {
      "text/plain": [
       "<AxesSubplot:xlabel='smoothed_ctr'>"
      ]
     },
     "execution_count": 120,
     "metadata": {},
     "output_type": "execute_result"
    },
    {
     "data": {
      "image/png": "[encoded data removed]",
      "text/plain": [
       "<Figure size 842.4x595.44 with 1 Axes>"
      ]
     },
     "metadata": {},
     "output_type": "display_data"
    }
   ],
   "source": [
    "#строим распределение сглаженного ctr\n",
    "sns.distplot(group1.smoothed_ctr, \n",
    "             kde = False)"
   ]
  },
  {
   "cell_type": "code",
   "execution_count": 121,
   "id": "352309a1-0a7f-4ab2-b547-c71aeb34469e",
   "metadata": {},
   "outputs": [
    {
     "data": {
      "text/plain": [
       "<AxesSubplot:xlabel='ctr'>"
      ]
     },
     "execution_count": 121,
     "metadata": {},
     "output_type": "execute_result"
    },
    {
     "data": {
      "image/png": "[encoded data removed]",
      "text/plain": [
       "<Figure size 842.4x595.44 with 1 Axes>"
      ]
     },
     "metadata": {},
     "output_type": "display_data"
    }
   ],
   "source": [
    "# то же самое для второй группы\n",
    "group2 = df[df.exp_group == 2].copy()\n",
    "group2['smoothed_ctr'] = df.apply(\n",
    "    lambda x: get_smoothed_ctr(x['likes'], x['views'], global_ctr_2, 5), axis=1)\n",
    "\n",
    "sns.distplot(group2.ctr, \n",
    "             kde = False)"
   ]
  },
  {
   "cell_type": "code",
   "execution_count": 122,
   "id": "be8b0b81-c540-42da-a4cd-7027b5ff1003",
   "metadata": {},
   "outputs": [
    {
     "data": {
      "text/plain": [
       "<AxesSubplot:xlabel='smoothed_ctr'>"
      ]
     },
     "execution_count": 122,
     "metadata": {},
     "output_type": "execute_result"
    },
    {
     "data": {
      "image/png": "[encoded data removed]",
      "text/plain": [
       "<Figure size 842.4x595.44 with 1 Axes>"
      ]
     },
     "metadata": {},
     "output_type": "display_data"
    }
   ],
   "source": [
    "sns.distplot(group2.smoothed_ctr, \n",
    "             kde = False)"
   ]
  },
  {
   "cell_type": "code",
   "execution_count": 123,
   "id": "131359c1-5be6-4e48-a126-dfeff248cef8",
   "metadata": {},
   "outputs": [
    {
     "data": {
      "text/plain": [
       "Ttest_indResult(statistic=2.2841320431616983, pvalue=0.0223769815558559)"
      ]
     },
     "execution_count": 123,
     "metadata": {},
     "output_type": "execute_result"
    }
   ],
   "source": [
    "#t-тест\n",
    "\n",
    "stats.ttest_ind(group1.smoothed_ctr,\n",
    "                group2.smoothed_ctr,\n",
    "                equal_var=False)"
   ]
  },
  {
   "cell_type": "code",
   "execution_count": 124,
   "id": "1091680c-13f3-43bd-8385-289844866ddf",
   "metadata": {},
   "outputs": [
    {
     "data": {
      "text/plain": [
       "MannwhitneyuResult(statistic=56925125.0, pvalue=1.6163964114270227e-61)"
      ]
     },
     "execution_count": 124,
     "metadata": {},
     "output_type": "execute_result"
    }
   ],
   "source": [
    "#Mann-Whitney test\n",
    "stats.mannwhitneyu(group1.smoothed_ctr,\n",
    "                   group2.smoothed_ctr,\n",
    "                   alternative = 'two-sided')"
   ]
  },
  {
   "cell_type": "markdown",
   "id": "a487cc47-a1b4-480f-96e0-b5d0f8a3e6ad",
   "metadata": {},
   "source": [
    "В случае со сглаженным CTR оба теста показывают, что различия между выборками значимы"
   ]
  },
  {
   "cell_type": "markdown",
   "id": "e291fda7-a84e-4e48-b4f4-8544c5b03df8",
   "metadata": {},
   "source": [
    "# Пуассоновский бутстреп"
   ]
  },
  {
   "cell_type": "code",
   "execution_count": 125,
   "id": "46493c19-823e-4386-88b0-7637ab229ec8",
   "metadata": {},
   "outputs": [],
   "source": [
    "# бутстреп функция для подсчета глобальных CTR\n",
    "def bootstrap(likes1, views1, likes2, views2, n_bootstrap=2000):\n",
    "\n",
    "    poisson_bootstraps1 = stats.poisson(1).rvs(\n",
    "        (n_bootstrap, len(likes1))).astype(np.int64)\n",
    "\n",
    "    poisson_bootstraps2 = stats.poisson(1).rvs(\n",
    "            (n_bootstrap, len(likes2))).astype(np.int64)\n",
    "    \n",
    "    globalCTR1 = (poisson_bootstraps1*likes1).sum(axis=1)/(poisson_bootstraps1*views1).sum(axis=1)\n",
    "    \n",
    "    globalCTR2 = (poisson_bootstraps2*likes2).sum(axis=1)/(poisson_bootstraps2*views2).sum(axis=1)\n",
    "\n",
    "    return globalCTR1, globalCTR2"
   ]
  },
  {
   "cell_type": "code",
   "execution_count": 126,
   "id": "501f0b99-d1ab-4e0d-a958-1bdbd10eba25",
   "metadata": {},
   "outputs": [
    {
     "data": {
      "text/plain": [
       "<AxesSubplot:ylabel='Count'>"
      ]
     },
     "execution_count": 126,
     "metadata": {},
     "output_type": "execute_result"
    },
    {
     "data": {
      "image/png": "[encoded data removed]",
      "text/plain": [
       "<Figure size 842.4x595.44 with 1 Axes>"
      ]
     },
     "metadata": {},
     "output_type": "display_data"
    }
   ],
   "source": [
    "# считаем глобальные CTR\n",
    "likes1 = df[df.exp_group == 1].likes.to_numpy()\n",
    "views1 = df[df.exp_group == 1].views.to_numpy()\n",
    "likes2 = df[df.exp_group == 2].likes.to_numpy()\n",
    "views2 = df[df.exp_group == 2].views.to_numpy()\n",
    "\n",
    "ctr1, ctr2 = bootstrap(likes1, views1, likes2, views2)\n",
    "\n",
    "# строим распределения получившихся глобальных CTR (красным - группа 1, синим - группа 2)\n",
    "sns.histplot(ctr1, color='r')\n",
    "sns.histplot(ctr2)"
   ]
  },
  {
   "cell_type": "code",
   "execution_count": 127,
   "id": "3ecb11ae-9063-4b94-a50e-cd56392e4415",
   "metadata": {},
   "outputs": [
    {
     "data": {
      "text/plain": [
       "<AxesSubplot:ylabel='Count'>"
      ]
     },
     "execution_count": 127,
     "metadata": {},
     "output_type": "execute_result"
    },
    {
     "data": {
      "image/png": "[encoded data removed]",
      "text/plain": [
       "<Figure size 842.4x595.44 with 1 Axes>"
      ]
     },
     "metadata": {},
     "output_type": "display_data"
    }
   ],
   "source": [
    "#Разница между глобальными CTR\n",
    "\n",
    "sns.histplot(ctr2 - ctr1)"
   ]
  },
  {
   "cell_type": "markdown",
   "id": "e32f7bb2-fb7a-4bef-af75-5e0bbe10fe8c",
   "metadata": {},
   "source": [
    "<h3>По графикам можно видеть, что CTR у контрольной группы больше.</h3>"
   ]
  },
  {
   "cell_type": "markdown",
   "id": "b9f96131-5200-4c9a-9f71-85fbced05e82",
   "metadata": {},
   "source": [
    "# Бакетное преобразование"
   ]
  },
  {
   "cell_type": "code",
   "execution_count": 128,
   "id": "6b5cd0bf-5389-4900-9365-9ae333acbff9",
   "metadata": {},
   "outputs": [
    {
     "data": {
      "text/plain": [
       "MannwhitneyuResult(statistic=1995.0, pvalue=2.859963936492646e-07)"
      ]
     },
     "execution_count": 128,
     "metadata": {},
     "output_type": "execute_result"
    }
   ],
   "source": [
    "q = \"\"\"\n",
    "\n",
    "SELECT exp_group, bucket,\n",
    "    sum(likes)/sum(views) as bucket_ctr,\n",
    "    quantileExact(0.9)(ctr) as ctr9\n",
    "FROM (SELECT exp_group, \n",
    "        xxHash64(user_id)%50 as bucket,\n",
    "        user_id,\n",
    "        sum(action = 'like') as likes,\n",
    "        sum(action = 'view') as views,\n",
    "        likes/views as ctr\n",
    "    FROM {db}.feed_actions \n",
    "    WHERE toDate(time) between '2022-07-13' and '2022-07-19'\n",
    "        and exp_group in (1,2)\n",
    "    GROUP BY exp_group, bucket, user_id)\n",
    "GROUP BY exp_group, bucket\n",
    "\"\"\"\n",
    "\n",
    "df = pandahouse.read_clickhouse(q, connection=connection)\n",
    "\n",
    "#тест Манна-Уитни\n",
    "stats.mannwhitneyu(df[df.exp_group == 1].bucket_ctr, \n",
    "                   df[df.exp_group == 2].bucket_ctr, \n",
    "                   alternative = 'two-sided')"
   ]
  },
  {
   "cell_type": "code",
   "execution_count": 129,
   "id": "1115cd9e-c98f-4a1f-967a-112372a7e6f0",
   "metadata": {},
   "outputs": [
    {
     "data": {
      "text/plain": [
       "Ttest_indResult(statistic=5.668234732053979, pvalue=3.4455951649945907e-07)"
      ]
     },
     "execution_count": 129,
     "metadata": {},
     "output_type": "execute_result"
    }
   ],
   "source": [
    "#t-тест\n",
    "\n",
    "stats.ttest_ind(df[df.exp_group == 1].bucket_ctr, \n",
    "                   df[df.exp_group == 2].bucket_ctr, \n",
    "                   equal_var = False)"
   ]
  },
  {
   "cell_type": "markdown",
   "id": "05f58fe5-2b24-4cda-b551-a45b076fde98",
   "metadata": {},
   "source": [
    "Здесь тоже оба теста показывают, что различия между выборками значимы"
   ]
  },
  {
   "cell_type": "code",
   "execution_count": 130,
   "id": "6b977a0f-eb73-438b-8fca-29715d3b3f0c",
   "metadata": {},
   "outputs": [
    {
     "data": {
      "image/png": "[encoded data removed]",
      "text/plain": [
       "<Figure size 842.4x595.44 with 1 Axes>"
      ]
     },
     "metadata": {},
     "output_type": "display_data"
    }
   ],
   "source": [
    "# Строим гистограммы\n",
    "buckets = sns.histplot(data = df, \n",
    "              x='bucket_ctr', \n",
    "              hue='exp_group',\n",
    "              bins=15,\n",
    "              palette = ['r', 'b'],\n",
    "              alpha=0.5,\n",
    "              kde=False)"
   ]
  },
  {
   "cell_type": "markdown",
   "id": "74f5f574-20c9-4d73-8b8a-45b990888057",
   "metadata": {},
   "source": [
    "На графике можно видеть, что CTR первой группы в целом больше, чем CTR второй (что и подтвердилось тестами)"
   ]
  },
  {
   "cell_type": "code",
   "execution_count": 131,
   "id": "94da5c7e-c9fc-4f99-8fdb-81806f2af5b8",
   "metadata": {},
   "outputs": [
    {
     "data": {
      "image/png": "[encoded data removed]",
      "text/plain": [
       "<Figure size 842.4x595.44 with 1 Axes>"
      ]
     },
     "metadata": {},
     "output_type": "display_data"
    }
   ],
   "source": [
    "buckets_ctr9 = sns.histplot(data = df, \n",
    "              x='ctr9', \n",
    "              hue='exp_group',\n",
    "              bins=15,\n",
    "              palette = ['r', 'b'],\n",
    "              alpha=0.5,\n",
    "              kde=False)"
   ]
  },
  {
   "cell_type": "markdown",
   "id": "802e3c66-143b-461f-ae0c-18676225c212",
   "metadata": {},
   "source": [
    "Однако на квантиле 0.9 CTR второй группы больше. Это может быть вызвано тем, что распределение второй группы более \"плоское\" (хвосты распределения находятся дальше от центра), чем распределение первой группы."
   ]
  },
  {
   "cell_type": "markdown",
   "id": "b2fad07a-0764-4bc2-9c5f-90520d7e8af7",
   "metadata": {
    "tags": []
   },
   "source": [
    "# Выводы\n",
    "\n",
    "3) Судя по гистограмме распределения CTR экспериментальной группы, можно видеть разделение значений CTR на два кластера: в большем из них CTR меньше среднего, а в меньшем CTR больше. Следовательно, в большем кластере у нас пользователи, которым предположительно \"не зашел\" новый алгоритм, а в меньшем - наоборот. \n",
    "Такая ситуация потенциально могла произойти, например, из-за того, что какой-то возврастной группе новая лента нравится больше старой, а другой - меньше. Может быть новый алгоритм рекомендаций предлагает больше коротких видео или наоборот почти не предлагает посты с видео.\n",
    "\n",
    "4) Новый алгоритм не стоит раскатывать на новых пользователях, так как CTR после его внедрения понизился."
   ]
  }
 ],
 "metadata": {
  "kernelspec": {
   "display_name": "Python 3 (ipykernel)",
   "language": "python",
   "name": "python3"
  },
  "language_info": {
   "codemirror_mode": {
    "name": "ipython",
    "version": 3
   },
   "file_extension": ".py",
   "mimetype": "text/x-python",
   "name": "python",
   "nbconvert_exporter": "python",
   "pygments_lexer": "ipython3",
   "version": "3.9.12"
  }
 },
 "nbformat": 4,
 "nbformat_minor": 5
}
